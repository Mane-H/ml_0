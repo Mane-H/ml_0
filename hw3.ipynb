{
 "cells": [
  {
   "cell_type": "code",
   "execution_count": 55,
   "id": "d41daead",
   "metadata": {},
   "outputs": [
    {
     "name": "stdout",
     "output_type": "stream",
     "text": [
      "acc: 0.7642857142857142\n",
      "f1: 0.3529411764705882\n",
      "recall: 0.23076923076923078\n",
      "precision: 0.75\n",
      "confusion:  [[98  3]\n",
      " [30  9]]\n"
     ]
    }
   ],
   "source": [
    "from sklearn.preprocessing import MinMaxScaler\n",
    "from sklearn.model_selection import train_test_split\n",
    "from sklearn.linear_model import LogisticRegression\n",
    "from sklearn.metrics import accuracy_score, f1_score, recall_score, precision_score, confusion_matrix\n",
    "import pandas as pd\n",
    "import numpy as np\n",
    "\n",
    "def count_tp(labels):\n",
    "    true_count = 0\n",
    "    false_count = 0\n",
    "    for label in labels:\n",
    "        if label == 1:\n",
    "            true_count += 1\n",
    "        if label == 0:\n",
    "            false_count += 1\n",
    "\n",
    "    return true_count, false_count\n",
    "\n",
    "df = pd.read_csv('classification.csv')\n",
    "x = df.iloc[:, 5:7].to_numpy()\n",
    "#y = df.iloc[:, -1].to_numpy()\n",
    "y = df.iloc[:, 8:9]\n",
    "y=np.ravel(y)\n",
    "\n",
    "scaler = MinMaxScaler()\n",
    "x = scaler.fit_transform(x)\n",
    "\n",
    "x_train, x_test, y_train, y_test = train_test_split(x, y, test_size=.2, random_state=0)\n",
    "\n",
    "model = LogisticRegression()\n",
    "model.fit(x_train, y_train)\n",
    "y_pred = model.predict(x_test)\n",
    "\n",
    "print('acc:', accuracy_score(y_test, y_pred))\n",
    "print('f1:', f1_score(y_test, y_pred))\n",
    "print('recall:', recall_score(y_test, y_pred))\n",
    "print('precision:', precision_score(y_test, y_pred))\n",
    "print('confusion: ', confusion_matrix(y_test, y_pred))"
   ]
  },
  {
   "cell_type": "code",
   "execution_count": 30,
   "id": "972e3269",
   "metadata": {},
   "outputs": [
    {
     "data": {
      "text/html": [
       "<div>\n",
       "<style scoped>\n",
       "    .dataframe tbody tr th:only-of-type {\n",
       "        vertical-align: middle;\n",
       "    }\n",
       "\n",
       "    .dataframe tbody tr th {\n",
       "        vertical-align: top;\n",
       "    }\n",
       "\n",
       "    .dataframe thead th {\n",
       "        text-align: right;\n",
       "    }\n",
       "</style>\n",
       "<table border=\"1\" class=\"dataframe\">\n",
       "  <thead>\n",
       "    <tr style=\"text-align: right;\">\n",
       "      <th></th>\n",
       "      <th>age</th>\n",
       "      <th>ed</th>\n",
       "      <th>employ</th>\n",
       "      <th>address</th>\n",
       "      <th>income</th>\n",
       "      <th>debtinc</th>\n",
       "      <th>creddebt</th>\n",
       "      <th>othdebt</th>\n",
       "      <th>default</th>\n",
       "    </tr>\n",
       "  </thead>\n",
       "  <tbody>\n",
       "    <tr>\n",
       "      <th>0</th>\n",
       "      <td>41</td>\n",
       "      <td>college degree</td>\n",
       "      <td>17</td>\n",
       "      <td>12</td>\n",
       "      <td>176</td>\n",
       "      <td>9.3</td>\n",
       "      <td>11.359392</td>\n",
       "      <td>5.008608</td>\n",
       "      <td>1</td>\n",
       "    </tr>\n",
       "    <tr>\n",
       "      <th>1</th>\n",
       "      <td>27</td>\n",
       "      <td>no high school</td>\n",
       "      <td>10</td>\n",
       "      <td>6</td>\n",
       "      <td>31</td>\n",
       "      <td>17.3</td>\n",
       "      <td>1.362202</td>\n",
       "      <td>4.000798</td>\n",
       "      <td>0</td>\n",
       "    </tr>\n",
       "    <tr>\n",
       "      <th>2</th>\n",
       "      <td>40</td>\n",
       "      <td>no high school</td>\n",
       "      <td>15</td>\n",
       "      <td>14</td>\n",
       "      <td>55</td>\n",
       "      <td>5.5</td>\n",
       "      <td>0.856075</td>\n",
       "      <td>2.168925</td>\n",
       "      <td>0</td>\n",
       "    </tr>\n",
       "    <tr>\n",
       "      <th>3</th>\n",
       "      <td>41</td>\n",
       "      <td>no high school</td>\n",
       "      <td>15</td>\n",
       "      <td>14</td>\n",
       "      <td>120</td>\n",
       "      <td>2.9</td>\n",
       "      <td>2.658720</td>\n",
       "      <td>0.821280</td>\n",
       "      <td>0</td>\n",
       "    </tr>\n",
       "    <tr>\n",
       "      <th>4</th>\n",
       "      <td>24</td>\n",
       "      <td>high school</td>\n",
       "      <td>2</td>\n",
       "      <td>0</td>\n",
       "      <td>28</td>\n",
       "      <td>17.3</td>\n",
       "      <td>1.787436</td>\n",
       "      <td>3.056564</td>\n",
       "      <td>1</td>\n",
       "    </tr>\n",
       "  </tbody>\n",
       "</table>\n",
       "</div>"
      ],
      "text/plain": [
       "   age              ed  employ  address  income  debtinc   creddebt   othdebt  \\\n",
       "0   41  college degree      17       12     176      9.3  11.359392  5.008608   \n",
       "1   27  no high school      10        6      31     17.3   1.362202  4.000798   \n",
       "2   40  no high school      15       14      55      5.5   0.856075  2.168925   \n",
       "3   41  no high school      15       14     120      2.9   2.658720  0.821280   \n",
       "4   24     high school       2        0      28     17.3   1.787436  3.056564   \n",
       "\n",
       "   default  \n",
       "0        1  \n",
       "1        0  \n",
       "2        0  \n",
       "3        0  \n",
       "4        1  "
      ]
     },
     "execution_count": 30,
     "metadata": {},
     "output_type": "execute_result"
    }
   ],
   "source": [
    "### 1) start with one-hot encoding\n",
    "df.head()"
   ]
  },
  {
   "cell_type": "code",
   "execution_count": 31,
   "id": "e6843d41",
   "metadata": {},
   "outputs": [],
   "source": [
    "df=df.replace(' ', '_', regex=True)"
   ]
  },
  {
   "cell_type": "code",
   "execution_count": 32,
   "id": "fcea38f0",
   "metadata": {},
   "outputs": [
    {
     "name": "stdout",
     "output_type": "stream",
     "text": [
      "   ed_college_degree  ed_high_school  ed_no_high_school  ed_postgraduate  \\\n",
      "0                  1               0                  0                0   \n",
      "1                  0               0                  1                0   \n",
      "2                  0               0                  1                0   \n",
      "3                  0               0                  1                0   \n",
      "4                  0               1                  0                0   \n",
      "\n",
      "   ed_undergraduate  \n",
      "0                 0  \n",
      "1                 0  \n",
      "2                 0  \n",
      "3                 0  \n",
      "4                 0  \n"
     ]
    },
    {
     "data": {
      "text/plain": [
       "ed_college_degree    uint8\n",
       "ed_high_school       uint8\n",
       "ed_no_high_school    uint8\n",
       "ed_postgraduate      uint8\n",
       "ed_undergraduate     uint8\n",
       "dtype: object"
      ]
     },
     "execution_count": 32,
     "metadata": {},
     "output_type": "execute_result"
    }
   ],
   "source": [
    "y = pd.get_dummies(df.ed, prefix='ed')\n",
    "print(y.head())\n",
    "type(y)\n",
    "y.dtypes"
   ]
  },
  {
   "cell_type": "code",
   "execution_count": 35,
   "id": "e35d503f",
   "metadata": {},
   "outputs": [
    {
     "data": {
      "text/html": [
       "<div>\n",
       "<style scoped>\n",
       "    .dataframe tbody tr th:only-of-type {\n",
       "        vertical-align: middle;\n",
       "    }\n",
       "\n",
       "    .dataframe tbody tr th {\n",
       "        vertical-align: top;\n",
       "    }\n",
       "\n",
       "    .dataframe thead th {\n",
       "        text-align: right;\n",
       "    }\n",
       "</style>\n",
       "<table border=\"1\" class=\"dataframe\">\n",
       "  <thead>\n",
       "    <tr style=\"text-align: right;\">\n",
       "      <th></th>\n",
       "      <th>age</th>\n",
       "      <th>employ</th>\n",
       "      <th>address</th>\n",
       "      <th>income</th>\n",
       "      <th>debtinc</th>\n",
       "      <th>creddebt</th>\n",
       "      <th>othdebt</th>\n",
       "      <th>default</th>\n",
       "      <th>ed_college_degree</th>\n",
       "      <th>ed_high_school</th>\n",
       "      <th>ed_no_high_school</th>\n",
       "      <th>ed_postgraduate</th>\n",
       "      <th>ed_undergraduate</th>\n",
       "    </tr>\n",
       "  </thead>\n",
       "  <tbody>\n",
       "    <tr>\n",
       "      <th>0</th>\n",
       "      <td>41</td>\n",
       "      <td>17</td>\n",
       "      <td>12</td>\n",
       "      <td>176</td>\n",
       "      <td>9.3</td>\n",
       "      <td>11.359392</td>\n",
       "      <td>5.008608</td>\n",
       "      <td>1</td>\n",
       "      <td>1</td>\n",
       "      <td>0</td>\n",
       "      <td>0</td>\n",
       "      <td>0</td>\n",
       "      <td>0</td>\n",
       "    </tr>\n",
       "    <tr>\n",
       "      <th>1</th>\n",
       "      <td>27</td>\n",
       "      <td>10</td>\n",
       "      <td>6</td>\n",
       "      <td>31</td>\n",
       "      <td>17.3</td>\n",
       "      <td>1.362202</td>\n",
       "      <td>4.000798</td>\n",
       "      <td>0</td>\n",
       "      <td>0</td>\n",
       "      <td>0</td>\n",
       "      <td>1</td>\n",
       "      <td>0</td>\n",
       "      <td>0</td>\n",
       "    </tr>\n",
       "    <tr>\n",
       "      <th>2</th>\n",
       "      <td>40</td>\n",
       "      <td>15</td>\n",
       "      <td>14</td>\n",
       "      <td>55</td>\n",
       "      <td>5.5</td>\n",
       "      <td>0.856075</td>\n",
       "      <td>2.168925</td>\n",
       "      <td>0</td>\n",
       "      <td>0</td>\n",
       "      <td>0</td>\n",
       "      <td>1</td>\n",
       "      <td>0</td>\n",
       "      <td>0</td>\n",
       "    </tr>\n",
       "    <tr>\n",
       "      <th>3</th>\n",
       "      <td>41</td>\n",
       "      <td>15</td>\n",
       "      <td>14</td>\n",
       "      <td>120</td>\n",
       "      <td>2.9</td>\n",
       "      <td>2.658720</td>\n",
       "      <td>0.821280</td>\n",
       "      <td>0</td>\n",
       "      <td>0</td>\n",
       "      <td>0</td>\n",
       "      <td>1</td>\n",
       "      <td>0</td>\n",
       "      <td>0</td>\n",
       "    </tr>\n",
       "    <tr>\n",
       "      <th>4</th>\n",
       "      <td>24</td>\n",
       "      <td>2</td>\n",
       "      <td>0</td>\n",
       "      <td>28</td>\n",
       "      <td>17.3</td>\n",
       "      <td>1.787436</td>\n",
       "      <td>3.056564</td>\n",
       "      <td>1</td>\n",
       "      <td>0</td>\n",
       "      <td>1</td>\n",
       "      <td>0</td>\n",
       "      <td>0</td>\n",
       "      <td>0</td>\n",
       "    </tr>\n",
       "  </tbody>\n",
       "</table>\n",
       "</div>"
      ],
      "text/plain": [
       "   age  employ  address  income  debtinc   creddebt   othdebt  default  \\\n",
       "0   41      17       12     176      9.3  11.359392  5.008608        1   \n",
       "1   27      10        6      31     17.3   1.362202  4.000798        0   \n",
       "2   40      15       14      55      5.5   0.856075  2.168925        0   \n",
       "3   41      15       14     120      2.9   2.658720  0.821280        0   \n",
       "4   24       2        0      28     17.3   1.787436  3.056564        1   \n",
       "\n",
       "   ed_college_degree  ed_high_school  ed_no_high_school  ed_postgraduate  \\\n",
       "0                  1               0                  0                0   \n",
       "1                  0               0                  1                0   \n",
       "2                  0               0                  1                0   \n",
       "3                  0               0                  1                0   \n",
       "4                  0               1                  0                0   \n",
       "\n",
       "   ed_undergraduate  \n",
       "0                 0  \n",
       "1                 0  \n",
       "2                 0  \n",
       "3                 0  \n",
       "4                 0  "
      ]
     },
     "execution_count": 35,
     "metadata": {},
     "output_type": "execute_result"
    }
   ],
   "source": [
    "df2=df.drop(\"ed\", axis=1)\n",
    "df2=pd.concat([df2, y], axis=1)\n",
    "df2.head()"
   ]
  },
  {
   "cell_type": "code",
   "execution_count": 36,
   "id": "1367d479",
   "metadata": {},
   "outputs": [
    {
     "name": "stdout",
     "output_type": "stream",
     "text": [
      "                        age    employ   address    income   debtinc  creddebt  \\\n",
      "age                1.000000  0.536497  0.597591  0.478710  0.016398  0.295207   \n",
      "employ             0.536497  1.000000  0.322334  0.619681 -0.031182  0.403694   \n",
      "address            0.597591  0.322334  1.000000  0.316245  0.011323  0.208435   \n",
      "income             0.478710  0.619681  0.316245  1.000000 -0.026777  0.570199   \n",
      "debtinc            0.016398 -0.031182  0.011323 -0.026777  1.000000  0.501767   \n",
      "creddebt           0.295207  0.403694  0.208435  0.570199  0.501767  1.000000   \n",
      "othdebt            0.340217  0.406091  0.226514  0.610659  0.584870  0.633104   \n",
      "default           -0.137657 -0.282978 -0.164451 -0.070970  0.389575  0.244740   \n",
      "ed_college_degree  0.051031 -0.029161  0.058899  0.149451  0.032199  0.110548   \n",
      "ed_high_school    -0.059646 -0.073388  0.001322  0.014392 -0.034308 -0.038828   \n",
      "ed_no_high_school  0.015432  0.146061 -0.047697 -0.178107  0.005693 -0.056229   \n",
      "ed_postgraduate    0.082148  0.005245  0.023896  0.163696 -0.042278 -0.009532   \n",
      "ed_undergraduate  -0.020260 -0.135290  0.007779  0.085204  0.024489  0.043597   \n",
      "\n",
      "                    othdebt   default  ed_college_degree  ed_high_school  \\\n",
      "age                0.340217 -0.137657           0.051031       -0.059646   \n",
      "employ             0.406091 -0.282978          -0.029161       -0.073388   \n",
      "address            0.226514 -0.164451           0.058899        0.001322   \n",
      "income             0.610659 -0.070970           0.149451        0.014392   \n",
      "debtinc            0.584870  0.389575           0.032199       -0.034308   \n",
      "creddebt           0.633104  0.244740           0.110548       -0.038828   \n",
      "othdebt            1.000000  0.145713           0.169630       -0.012977   \n",
      "default            0.145713  1.000000           0.071502        0.052241   \n",
      "ed_college_degree  0.169630  0.071502           1.000000       -0.236597   \n",
      "ed_high_school    -0.012977  0.052241          -0.236597        1.000000   \n",
      "ed_no_high_school -0.127588 -0.118909          -0.401203       -0.668829   \n",
      "ed_postgraduate    0.080032 -0.011857          -0.031954       -0.053269   \n",
      "ed_undergraduate   0.030057  0.058337          -0.090259       -0.150468   \n",
      "\n",
      "                   ed_no_high_school  ed_postgraduate  ed_undergraduate  \n",
      "age                         0.015432         0.082148         -0.020260  \n",
      "employ                      0.146061         0.005245         -0.135290  \n",
      "address                    -0.047697         0.023896          0.007779  \n",
      "income                     -0.178107         0.163696          0.085204  \n",
      "debtinc                     0.005693        -0.042278          0.024489  \n",
      "creddebt                   -0.056229        -0.009532          0.043597  \n",
      "othdebt                    -0.127588         0.080032          0.030057  \n",
      "default                    -0.118909        -0.011857          0.058337  \n",
      "ed_college_degree          -0.401203        -0.031954         -0.090259  \n",
      "ed_high_school             -0.668829        -0.053269         -0.150468  \n",
      "ed_no_high_school           1.000000        -0.090329         -0.255151  \n",
      "ed_postgraduate            -0.090329         1.000000         -0.020321  \n",
      "ed_undergraduate           -0.255151        -0.020321          1.000000  \n"
     ]
    }
   ],
   "source": [
    "#### 1) to find out which component to include\n",
    "corr_matr=df2.corr()\n",
    "print(corr_matr)"
   ]
  },
  {
   "cell_type": "code",
   "execution_count": 47,
   "id": "c3f2b89f",
   "metadata": {},
   "outputs": [
    {
     "name": "stdout",
     "output_type": "stream",
     "text": [
      "[1 0 0 0 0 0 0 0 0 0 0 0 0 0 0 0 0 0 0 1 0 0 0 0 0 0 0 0 0 1 0 0 1 0 0 0 0\n",
      " 0 0 0 0 0 0 0 0 0 0 0 0 0 0 0 0 1 0 0 0 0 1 1 0 0 0 0 0 0 0 0 0 0 0 0 0 0\n",
      " 0 0 0 0 0 0 0 0 0 0 0 0 0 1 0 0 0 0 0 0 1 0 1 0 0 1 0 0 0 0 0 0 0 0 0 0 1\n",
      " 0 1 0 0 0 0 0 0 0 0 0 0 0 0 0 0 0 0 0 0 0 0 0 0 0 0 0 0 0 0 0 1 0 0 0 0 0\n",
      " 0 0 0 0 0 0 0 1 0 0 0 0 0 1 0 0 0 0 0 0 0 0 0 0 0 0 0 0 0 0 0 0 0 0 1 0 0\n",
      " 0 0 0 0 0 0 0 0 0 0 0 0 0 0 0 0 1 0 0 1 1 0 0 0 0 1 0 1 1 0 1 0 0 0 0 0 1\n",
      " 1 1 0 0 0 0 0 0 1 0 0 0 0 0 0 0 0 0 0 0 0 1 1 0 0 0 0 0 0 0 0 0 0 0 0 1 1\n",
      " 0 0 0 0 0 0 0 0 1 0 0 0 0 1 0 0 0 0 0 0 0 0 0 0 0 0 0 0 0 0 0 0 0 0 0 0 0\n",
      " 0 0 0 0 0 0 0 0 1 0 1 0 0 0 0 0 0 0 0 0 0 0 0 1 0 1 0 0 0 0 0 0 0 0 0 1 0\n",
      " 0 0 0 0 0 1 0 0 0 0 1 0 0 0 0 0 0 0 0 0 0 1 1 0 0 1 1 0 0 0 0 0 0 0 0 0 1\n",
      " 0 0 0 0 0 0 0 0 0 0 0 0 0 0 0 0 0 0 0 0 0 1 0 0 1 0 0 0 0 0 0 0 0 1 0 0 0\n",
      " 1 0 0 0 0 0 0 0 0 0 0 0 0 0 0 0 1 0 0 1 0 0 0 0 0 0 0 0 0 0 1 0 0 0 0 0 0\n",
      " 0 0 1 0 1 0 0 0 1 0 0 0 0 0 0 0 0 0 1 0 0 0 1 0 0 0 0 0 0 0 0 0 0 0 0 0 0\n",
      " 0 0 0 1 0 0 0 0 0 0 1 0 1 0 0 0 0 0 0 1 0 0 0 0 1 0 0 0 0 0 1 0 0 0 0 0 1\n",
      " 0 0 1 0 0 0 0 0 0 0 0 0 0 1 0 0 0 0 0 0 0 0 0 0 0 0 1 0 0 0 0 1 0 0 0 0 0\n",
      " 0 1 0 0 1 0 0 1 0 1 0 1 0 1 0 0 0 0 0 0 0 0 0 0 0 0 0 0 1 0 0 0 0 0 0 0 1\n",
      " 0 0 0 0 0 0 0 0 1 0 0 0 0 0 0 0 0 0 0 0 1 0 1 0 0 0 0 0 0 0 0 0 0 0 0 0 0\n",
      " 0 0 1 0 0 1 0 0 0 0 0 0 0 0 0 0 0 0 0 0 0 0 0 0 1 0 0 0 0 0 0 0 0 1 0 0 0\n",
      " 0 0 0 1 0 0 0 0 0 0 0 0 0 0 0 0 0 0 0 0 1 0 0 0 0 0 0 1 0 0 0 0 0 0]\n"
     ]
    },
    {
     "data": {
      "text/plain": [
       "(700, 3)"
      ]
     },
     "execution_count": 47,
     "metadata": {},
     "output_type": "execute_result"
    }
   ],
   "source": [
    "x_2 = df2.iloc[:, [2,5,6]].to_numpy()\n",
    "y_2 = df2.iloc[:, 8:9]\n",
    "y_2=np.ravel(y_2)\n",
    "print(y_2)\n",
    "y_2.shape\n",
    "x_2.shape"
   ]
  },
  {
   "cell_type": "code",
   "execution_count": 48,
   "id": "90b90889",
   "metadata": {},
   "outputs": [],
   "source": [
    "scaler = MinMaxScaler()\n",
    "x_2 = scaler.fit_transform(x_2)\n",
    "\n",
    "x_train2, x_test2, y_train2, y_test2 = train_test_split(x_2, y_2, test_size=.2, random_state=0)"
   ]
  },
  {
   "cell_type": "code",
   "execution_count": 49,
   "id": "7acffe36",
   "metadata": {},
   "outputs": [],
   "source": [
    "model2 = LogisticRegression()\n",
    "model2.fit(x_train2, y_train2)\n",
    "y_pred2 = model2.predict(x_test2)"
   ]
  },
  {
   "cell_type": "code",
   "execution_count": 50,
   "id": "bd853665",
   "metadata": {},
   "outputs": [
    {
     "name": "stdout",
     "output_type": "stream",
     "text": [
      "acc: 0.8857142857142857\n",
      "f1: 0.0\n",
      "recall: 0.0\n",
      "precision: 0.0\n",
      "confusion:  [[124   0]\n",
      " [ 16   0]]\n"
     ]
    },
    {
     "name": "stderr",
     "output_type": "stream",
     "text": [
      "C:\\Users\\norik\\anaconda3\\lib\\site-packages\\sklearn\\metrics\\_classification.py:1221: UndefinedMetricWarning: Precision is ill-defined and being set to 0.0 due to no predicted samples. Use `zero_division` parameter to control this behavior.\n",
      "  _warn_prf(average, modifier, msg_start, len(result))\n"
     ]
    }
   ],
   "source": [
    "print('acc:', accuracy_score(y_test2, y_pred2))\n",
    "print('f1:', f1_score(y_test2, y_pred2))\n",
    "print('recall:', recall_score(y_test2, y_pred2))\n",
    "print('precision:', precision_score(y_test2, y_pred2))\n",
    "print('confusion: ', confusion_matrix(y_test2, y_pred2))"
   ]
  },
  {
   "cell_type": "code",
   "execution_count": 51,
   "id": "d0185cf8",
   "metadata": {},
   "outputs": [
    {
     "name": "stdout",
     "output_type": "stream",
     "text": [
      "acc: 0.8857142857142857\n",
      "f1: 0.0\n",
      "recall: 0.0\n",
      "precision: 0.0\n",
      "confusion:  [[124   0]\n",
      " [ 16   0]]\n"
     ]
    },
    {
     "name": "stderr",
     "output_type": "stream",
     "text": [
      "C:\\Users\\norik\\anaconda3\\lib\\site-packages\\sklearn\\metrics\\_classification.py:1221: UndefinedMetricWarning: Precision is ill-defined and being set to 0.0 due to no predicted samples. Use `zero_division` parameter to control this behavior.\n",
      "  _warn_prf(average, modifier, msg_start, len(result))\n"
     ]
    }
   ],
   "source": [
    "x_3 = df2.iloc[:, [2,5,6,11]].to_numpy()\n",
    "\n",
    "x_3.shape\n",
    "\n",
    "scaler = MinMaxScaler()\n",
    "x_3 = scaler.fit_transform(x_3)\n",
    "\n",
    "x_train3, x_test3, y_train3, y_test3 = train_test_split(x_3, y_2, test_size=.2, random_state=0)\n",
    "\n",
    "model3 = LogisticRegression()\n",
    "model3.fit(x_train3, y_train3)\n",
    "model3.get_params()\n",
    "y_pred3 = model3.predict(x_test3)\n",
    "\n",
    "print('acc:', accuracy_score(y_test3, y_pred3))\n",
    "print('f1:', f1_score(y_test3, y_pred3))\n",
    "print('recall:', recall_score(y_test3, y_pred3))\n",
    "print('precision:', precision_score(y_test3, y_pred3))\n",
    "print('confusion: ', confusion_matrix(y_test3, y_pred3))\n"
   ]
  },
  {
   "cell_type": "code",
   "execution_count": 56,
   "id": "4b42b699",
   "metadata": {},
   "outputs": [
    {
     "data": {
      "text/plain": [
       "(700,)"
      ]
     },
     "execution_count": 56,
     "metadata": {},
     "output_type": "execute_result"
    }
   ],
   "source": [
    "y.shape"
   ]
  },
  {
   "cell_type": "code",
   "execution_count": 57,
   "id": "6b3ac926",
   "metadata": {},
   "outputs": [
    {
     "data": {
      "text/plain": [
       "0.7714285714285715"
      ]
     },
     "execution_count": 57,
     "metadata": {},
     "output_type": "execute_result"
    }
   ],
   "source": [
    "### 2) use cross validation in the first model\n",
    "from sklearn.linear_model import LogisticRegressionCV\n",
    "clf = LogisticRegressionCV(cv=5, random_state=0).fit(x, y)\n",
    "clf.predict(x[:2, :])\n",
    "clf.predict_proba(x[:2, :]).shape\n",
    "clf.score(x, y)"
   ]
  },
  {
   "cell_type": "code",
   "execution_count": 63,
   "id": "9fe92360",
   "metadata": {},
   "outputs": [
    {
     "data": {
      "text/plain": [
       "0.8785714285714286"
      ]
     },
     "execution_count": 63,
     "metadata": {},
     "output_type": "execute_result"
    }
   ],
   "source": [
    "from sklearn.linear_model import LogisticRegressionCV\n",
    "clf = LogisticRegressionCV(cv=5, random_state=0).fit(x_2, y_2)\n",
    "predicted_2=clf.predict(x_2)\n",
    "clf.predict_proba(x_2).shape\n",
    "clf.score(x_2, y_2)"
   ]
  },
  {
   "cell_type": "code",
   "execution_count": 64,
   "id": "58cfe9cb",
   "metadata": {},
   "outputs": [
    {
     "name": "stdout",
     "output_type": "stream",
     "text": [
      "acc: 0.8785714285714286\n"
     ]
    }
   ],
   "source": [
    "print('acc:', accuracy_score(y_2, predicted_2))\n"
   ]
  }
 ],
 "metadata": {
  "kernelspec": {
   "display_name": "Python 3",
   "language": "python",
   "name": "python3"
  },
  "language_info": {
   "codemirror_mode": {
    "name": "ipython",
    "version": 3
   },
   "file_extension": ".py",
   "mimetype": "text/x-python",
   "name": "python",
   "nbconvert_exporter": "python",
   "pygments_lexer": "ipython3",
   "version": "3.8.8"
  }
 },
 "nbformat": 4,
 "nbformat_minor": 5
}
