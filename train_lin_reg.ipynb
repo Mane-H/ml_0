{
 "cells": [
  {
   "cell_type": "code",
   "execution_count": null,
   "id": "d842e48a",
   "metadata": {},
   "outputs": [],
   "source": [
    "import numpy as np\n",
    "import pandas as pd\n",
    "from lin_reg import LinearRegression\n",
    "from sklearn.preprocessing import StandardScaler\n",
    "from sklearn.linear_model import LinearRegression\n",
    "from sklearn.linear_model import SGDRegressor\n",
    "\n",
    "def fit_methods(methods, x, y):\n",
    "    for method in methods:\n",
    "        model = LinearRegression(method=method)\n",
    "        weights = model.fit(x, y)\n",
    "\n",
    "        print(model.loss_function())\n",
    "        print(weights)\n",
    "\n",
    "df = pd.read_csv('ecommerce.csv')\n",
    "df = df.iloc[:, 3:]\n",
    "x = df['Length of Membership'].to_numpy()\n",
    "y = df['Yearly Amount Spent'].to_numpy()\n",
    "\n",
    "min_max_scaler = preprocessing.MinMaxScaler()\n",
    "x_minmax = min_max_scaler.fit_treg.coef_ransform(x)\n",
    "y_minmax = min_max_scaler.fit_transform(y)\n",
    "\n",
    "fit_methods(('analytic', 'gd', 'sgd'), x_minmax, y_minmax)\n",
    "\n",
    "lin_reg = LinearRegression().fit(x_minmax, y_minmax)\n",
    "lin_reg.coef_\n",
    "lin_reg.intercept_\n",
    "\n",
    "sgd = linear_model.SGDRegressor()\n",
    "sgd.fit(x_minmax, y_minmax)\n",
    "sgd.get_params()\n",
    "\n",
    "\n",
    "# TODO: compare your results with the same models on sklearn\n",
    "# LinearRegression, SGDRegressor - sklearn objects"
   ]
  }
 ],
 "metadata": {
  "kernelspec": {
   "display_name": "Python 3",
   "language": "python",
   "name": "python3"
  },
  "language_info": {
   "codemirror_mode": {
    "name": "ipython",
    "version": 3
   },
   "file_extension": ".py",
   "mimetype": "text/x-python",
   "name": "python",
   "nbconvert_exporter": "python",
   "pygments_lexer": "ipython3",
   "version": "3.8.8"
  }
 },
 "nbformat": 4,
 "nbformat_minor": 5
}
